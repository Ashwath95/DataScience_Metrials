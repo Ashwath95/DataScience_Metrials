{
  "nbformat": 4,
  "nbformat_minor": 0,
  "metadata": {
    "colab": {
      "provenance": [],
      "collapsed_sections": [],
      "authorship_tag": "ABX9TyO3sZgei7lg3wegYsgehzGm",
      "include_colab_link": true
    },
    "kernelspec": {
      "name": "python3",
      "display_name": "Python 3"
    },
    "language_info": {
      "name": "python"
    }
  },
  "cells": [
    {
      "cell_type": "markdown",
      "metadata": {
        "id": "view-in-github",
        "colab_type": "text"
      },
      "source": [
        "<a href=\"https://colab.research.google.com/github/Ashwath95/DataScience_Metrials/blob/main/Python_Basic.ipynb\" target=\"_parent\"><img src=\"https://colab.research.google.com/assets/colab-badge.svg\" alt=\"Open In Colab\"/></a>"
      ]
    },
    {
      "cell_type": "code",
      "execution_count": null,
      "metadata": {
        "colab": {
          "base_uri": "https://localhost:8080/"
        },
        "id": "vxHd_uIvsIQS",
        "outputId": "da507178-f8e9-4537-9fe6-9e05c5ee6915"
      },
      "outputs": [
        {
          "output_type": "stream",
          "name": "stdout",
          "text": [
            "30\n",
            "-10\n",
            "200\n",
            "0.5\n",
            "False\n",
            "True\n",
            "True\n",
            "False\n",
            "True\n",
            "True\n",
            "True\n",
            "True\n"
          ]
        }
      ],
      "source": [
        "#Operators \n",
        "a=10\n",
        "b=20\n",
        "\n",
        "print(a+b)\n",
        "print(a-b)\n",
        "print(a*b)\n",
        "print(a/b)\n",
        "print(a == b)\n",
        "print(a != b)\n",
        "print(a<b)\n",
        "print(a>b)\n",
        "print(a<=b)\n",
        "print((a==a)&(b==b))\n",
        "print((a <b) | (a > b ))\n",
        "print(not(a==b))"
      ]
    },
    {
      "cell_type": "code",
      "source": [
        "#Loops in python \n",
        "\n",
        "#While \n",
        "#For\n",
        "#SHIFT +TAB - to out of loop\n",
        "\n",
        "i=1\n",
        "while i <=5:\n",
        "  print(i)\n",
        "  i=i+1\n",
        "print(\"Loop ends\")"
      ],
      "metadata": {
        "colab": {
          "base_uri": "https://localhost:8080/"
        },
        "id": "k5cfgVbGzeGJ",
        "outputId": "a45fbdf5-9b7c-49bb-9c8e-7d1842ab6447"
      },
      "execution_count": null,
      "outputs": [
        {
          "output_type": "stream",
          "name": "stdout",
          "text": [
            "1\n",
            "2\n",
            "3\n",
            "4\n",
            "5\n",
            "Loop ends\n"
          ]
        }
      ]
    },
    {
      "cell_type": "code",
      "source": [
        "\n",
        "i=1\n",
        "while i <=5 :\n",
        "  while i <= 3:\n",
        "    print(i)\n",
        "    i=i+1\n",
        "  i=i+1\n",
        "print(\"Loop ends\")"
      ],
      "metadata": {
        "colab": {
          "base_uri": "https://localhost:8080/"
        },
        "id": "9JoTqK6c1Brs",
        "outputId": "7e745caa-c8b9-40d5-d8de-a6050fa233c7"
      },
      "execution_count": null,
      "outputs": [
        {
          "output_type": "stream",
          "name": "stdout",
          "text": [
            "1\n",
            "2\n",
            "3\n",
            "Loop ends\n"
          ]
        }
      ]
    },
    {
      "cell_type": "code",
      "source": [
        "#For loop\n",
        "for i in range(6):\n",
        "  print(\"Hello\")"
      ],
      "metadata": {
        "colab": {
          "base_uri": "https://localhost:8080/"
        },
        "id": "Yx2YbgMK1uJz",
        "outputId": "d05f72c0-87c1-460b-9abe-be1ce63dcda5"
      },
      "execution_count": null,
      "outputs": [
        {
          "output_type": "stream",
          "name": "stdout",
          "text": [
            "Hello\n",
            "Hello\n",
            "Hello\n",
            "Hello\n",
            "Hello\n",
            "Hello\n"
          ]
        }
      ]
    },
    {
      "cell_type": "code",
      "source": [
        "#If statment\n",
        "\n",
        "import random\n",
        "from numpy.random import randn as r\n",
        "# print(random.randint(0,9))\n",
        "x=r()\n",
        "print(x)\n",
        "if r() > 1:\n",
        "  print(\"random value is greater than 1\")\n"
      ],
      "metadata": {
        "colab": {
          "base_uri": "https://localhost:8080/"
        },
        "id": "peBIN7oL4ESc",
        "outputId": "6d171036-5e42-454f-cf60-6651b543401d"
      },
      "execution_count": null,
      "outputs": [
        {
          "output_type": "stream",
          "name": "stdout",
          "text": [
            "1.8922875734853202\n"
          ]
        }
      ]
    },
    {
      "cell_type": "code",
      "source": [
        "#Else Statement\n",
        "result= None\n",
        "if r() > 1:\n",
        "  result=\"greater than 1\"\n",
        "else:\n",
        "  result=\"less than 1\"\n",
        "print(result)"
      ],
      "metadata": {
        "colab": {
          "base_uri": "https://localhost:8080/"
        },
        "id": "yzXhysaj63Ml",
        "outputId": "b5a988a4-e2ea-4c5e-a518-0067422408bb"
      },
      "execution_count": null,
      "outputs": [
        {
          "output_type": "stream",
          "name": "stdout",
          "text": [
            "greater than 1\n"
          ]
        }
      ]
    },
    {
      "cell_type": "code",
      "source": [
        "#elif Statement\n",
        "result= None\n",
        "\n",
        "z=int(input())\n",
        "if z > 1:\n",
        "  result=\"greater than 1\"\n",
        "elif z < -1:\n",
        "  result=\"less than -1\"\n",
        "else:\n",
        "  result=\"between -1 and 1\"\n",
        "print(result)"
      ],
      "metadata": {
        "colab": {
          "base_uri": "https://localhost:8080/"
        },
        "id": "PSPNmkwi77hg",
        "outputId": "17023cea-bbca-4370-a904-620a3369b91b"
      },
      "execution_count": null,
      "outputs": [
        {
          "output_type": "stream",
          "name": "stdout",
          "text": [
            "10\n",
            "greater than 1\n"
          ]
        }
      ]
    },
    {
      "cell_type": "code",
      "source": [
        "#List\n",
        "#we can store any type of data \n",
        "#index based\n",
        "#we can modify list \n",
        "\n",
        "l=[1,2,3,4,'abc','good job',True,10.7]\n",
        "le=len(l)\n",
        "print(l[::2])\n",
        "\n",
        "l1=[1,3,4,5,6,7,8]\n",
        "# print(l[0:len(l1),3])\n"
      ],
      "metadata": {
        "colab": {
          "base_uri": "https://localhost:8080/"
        },
        "id": "brgR5bKhIhT2",
        "outputId": "d7515ed5-fb3e-4a2f-c66e-7cbb878e7221"
      },
      "execution_count": null,
      "outputs": [
        {
          "output_type": "stream",
          "name": "stdout",
          "text": [
            "[1, 3, 'abc', True]\n"
          ]
        }
      ]
    },
    {
      "cell_type": "code",
      "source": [
        "l=[1,3,4,5,9,2]\n",
        "print(\"list:\",l)\n",
        "print(\"len of list:\",len(l))\n",
        "print(\"data type:\",type(l))\n",
        "print(\"max value from list:\",max(l))\n",
        "print(\"Min value in list:\",min(l))\n",
        "\n",
        "for i in range(len(l)):\n",
        "  print(l[i],end=' ')"
      ],
      "metadata": {
        "colab": {
          "base_uri": "https://localhost:8080/"
        },
        "id": "6H5972A3OBwH",
        "outputId": "6de7953b-62f3-43b2-ed02-767698fc43ec"
      },
      "execution_count": null,
      "outputs": [
        {
          "output_type": "stream",
          "name": "stdout",
          "text": [
            "list: [1, 3, 4, 5, 9, 2]\n",
            "len of list: 6\n",
            "data type: <class 'list'>\n",
            "max value from list: 9\n",
            "Min value in list: 1\n",
            "1 3 4 5 9 2 "
          ]
        }
      ]
    },
    {
      "cell_type": "code",
      "source": [
        "#Module \n",
        "#Module is simple python file which contains variable,methods etc.."
      ],
      "metadata": {
        "id": "el1SVCNcQS7x"
      },
      "execution_count": null,
      "outputs": []
    },
    {
      "cell_type": "code",
      "source": [
        "#Numpy\n",
        "import numpy\n",
        "print(numpy.array(l))\n"
      ],
      "metadata": {
        "colab": {
          "base_uri": "https://localhost:8080/"
        },
        "id": "YXYnTOJGRPL9",
        "outputId": "0f5cd8cb-110b-461d-e27e-92c4565fcb01"
      },
      "execution_count": null,
      "outputs": [
        {
          "output_type": "stream",
          "name": "stdout",
          "text": [
            "[1 3 4 5 9 2]\n"
          ]
        }
      ]
    },
    {
      "cell_type": "code",
      "source": [
        "\n",
        "a=numpy.array(l)\n",
        "print(a.mean())\n",
        "print(a[::2])\n",
        "print(a[1::2])\n",
        "print(max(a))\n",
        "print(min(a))\n",
        "print(a[0])\n",
        "print(a[:])\n",
        "print(type(a))\n",
        "b=a\n",
        "b[0]=10\n",
        "print(a)\n",
        "print(b)"
      ],
      "metadata": {
        "id": "d549PmwzRRMY",
        "colab": {
          "base_uri": "https://localhost:8080/"
        },
        "outputId": "5ce89957-790e-4733-9499-7dafc22f8193"
      },
      "execution_count": 87,
      "outputs": [
        {
          "output_type": "stream",
          "name": "stdout",
          "text": [
            "4.0\n",
            "[1 4 9]\n",
            "[3 5 2]\n",
            "9\n",
            "1\n",
            "1\n",
            "[1 3 4 5 9 2]\n",
            "<class 'numpy.ndarray'>\n",
            "[10  3  4  5  9  2]\n",
            "[10  3  4  5  9  2]\n"
          ]
        }
      ]
    }
  ]
}