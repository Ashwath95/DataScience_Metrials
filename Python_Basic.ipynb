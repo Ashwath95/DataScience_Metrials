{
  "nbformat": 4,
  "nbformat_minor": 0,
  "metadata": {
    "colab": {
      "provenance": [],
      "collapsed_sections": [],
      "authorship_tag": "ABX9TyN9f8NtdMWXirg67U7a6HEH",
      "include_colab_link": true
    },
    "kernelspec": {
      "name": "python3",
      "display_name": "Python 3"
    },
    "language_info": {
      "name": "python"
    }
  },
  "cells": [
    {
      "cell_type": "markdown",
      "metadata": {
        "id": "view-in-github",
        "colab_type": "text"
      },
      "source": [
        "<a href=\"https://colab.research.google.com/github/Ashwath95/DataScience_Metrials/blob/main/Python_Basic.ipynb\" target=\"_parent\"><img src=\"https://colab.research.google.com/assets/colab-badge.svg\" alt=\"Open In Colab\"/></a>"
      ]
    },
    {
      "cell_type": "code",
      "execution_count": 16,
      "metadata": {
        "colab": {
          "base_uri": "https://localhost:8080/"
        },
        "id": "vxHd_uIvsIQS",
        "outputId": "da507178-f8e9-4537-9fe6-9e05c5ee6915"
      },
      "outputs": [
        {
          "output_type": "stream",
          "name": "stdout",
          "text": [
            "30\n",
            "-10\n",
            "200\n",
            "0.5\n",
            "False\n",
            "True\n",
            "True\n",
            "False\n",
            "True\n",
            "True\n",
            "True\n",
            "True\n"
          ]
        }
      ],
      "source": [
        "#Operators \n",
        "a=10\n",
        "b=20\n",
        "\n",
        "print(a+b)\n",
        "print(a-b)\n",
        "print(a*b)\n",
        "print(a/b)\n",
        "print(a == b)\n",
        "print(a != b)\n",
        "print(a<b)\n",
        "print(a>b)\n",
        "print(a<=b)\n",
        "print((a==a)&(b==b))\n",
        "print((a <b) | (a > b ))\n",
        "print(not(a==b))"
      ]
    },
    {
      "cell_type": "code",
      "source": [
        "#Loops in python \n",
        "\n",
        "#While \n",
        "#For\n",
        "#SHIFT +TAB - to out of loop\n",
        "\n",
        "i=1\n",
        "while i <=5:\n",
        "  print(i)\n",
        "  i=i+1\n",
        "print(\"Loop ends\")"
      ],
      "metadata": {
        "colab": {
          "base_uri": "https://localhost:8080/"
        },
        "id": "k5cfgVbGzeGJ",
        "outputId": "a45fbdf5-9b7c-49bb-9c8e-7d1842ab6447"
      },
      "execution_count": 20,
      "outputs": [
        {
          "output_type": "stream",
          "name": "stdout",
          "text": [
            "1\n",
            "2\n",
            "3\n",
            "4\n",
            "5\n",
            "Loop ends\n"
          ]
        }
      ]
    },
    {
      "cell_type": "code",
      "source": [
        "\n",
        "i=1\n",
        "while i <=5 :\n",
        "  while i <= 3:\n",
        "    print(i)\n",
        "    i=i+1\n",
        "  i=i+1\n",
        "print(\"Loop ends\")"
      ],
      "metadata": {
        "colab": {
          "base_uri": "https://localhost:8080/"
        },
        "id": "9JoTqK6c1Brs",
        "outputId": "7e745caa-c8b9-40d5-d8de-a6050fa233c7"
      },
      "execution_count": 27,
      "outputs": [
        {
          "output_type": "stream",
          "name": "stdout",
          "text": [
            "1\n",
            "2\n",
            "3\n",
            "Loop ends\n"
          ]
        }
      ]
    },
    {
      "cell_type": "code",
      "source": [
        "#For loop\n",
        "for i in range(6):\n",
        "  print(\"Hello\")"
      ],
      "metadata": {
        "colab": {
          "base_uri": "https://localhost:8080/"
        },
        "id": "Yx2YbgMK1uJz",
        "outputId": "d05f72c0-87c1-460b-9abe-be1ce63dcda5"
      },
      "execution_count": 30,
      "outputs": [
        {
          "output_type": "stream",
          "name": "stdout",
          "text": [
            "Hello\n",
            "Hello\n",
            "Hello\n",
            "Hello\n",
            "Hello\n",
            "Hello\n"
          ]
        }
      ]
    },
    {
      "cell_type": "code",
      "source": [
        "#If statment\n",
        "\n",
        "import random\n",
        "from numpy.random import randn as r\n",
        "# print(random.randint(0,9))\n",
        "x=r()\n",
        "print(x)\n",
        "if r() > 1:\n",
        "  print(\"random value is greater than 1\")\n"
      ],
      "metadata": {
        "colab": {
          "base_uri": "https://localhost:8080/"
        },
        "id": "peBIN7oL4ESc",
        "outputId": "6d171036-5e42-454f-cf60-6651b543401d"
      },
      "execution_count": 41,
      "outputs": [
        {
          "output_type": "stream",
          "name": "stdout",
          "text": [
            "1.8922875734853202\n"
          ]
        }
      ]
    },
    {
      "cell_type": "code",
      "source": [
        "#Else Statement\n",
        "result= None\n",
        "if r() > 1:\n",
        "  result=\"greater than 1\"\n",
        "else:\n",
        "  result=\"less than 1\"\n",
        "print(result)"
      ],
      "metadata": {
        "colab": {
          "base_uri": "https://localhost:8080/"
        },
        "id": "yzXhysaj63Ml",
        "outputId": "b5a988a4-e2ea-4c5e-a518-0067422408bb"
      },
      "execution_count": 43,
      "outputs": [
        {
          "output_type": "stream",
          "name": "stdout",
          "text": [
            "greater than 1\n"
          ]
        }
      ]
    },
    {
      "cell_type": "code",
      "source": [
        "#elif Statement\n",
        "result= None\n",
        "\n",
        "z=int(input())\n",
        "if z > 1:\n",
        "  result=\"greater than 1\"\n",
        "elif z < -1:\n",
        "  result=\"less than -1\"\n",
        "else:\n",
        "  result=\"between -1 and 1\"\n",
        "print(result)"
      ],
      "metadata": {
        "colab": {
          "base_uri": "https://localhost:8080/"
        },
        "id": "PSPNmkwi77hg",
        "outputId": "70dbebce-256c-4581-d49c-2ca4f619af25"
      },
      "execution_count": 47,
      "outputs": [
        {
          "output_type": "stream",
          "name": "stdout",
          "text": [
            "12\n",
            "greater than 1\n"
          ]
        }
      ]
    }
  ]
}